{
 "cells": [
  {
   "cell_type": "code",
   "execution_count": null,
   "metadata": {},
   "outputs": [],
   "source": [
    "from pathlib import Path\n",
    "from pytubefix import YouTube\n",
    "from pytubefix.cli import on_progress\n",
    "\n",
    "target_dir = Path(\"./downloads\")\n",
    "target_dir.mkdir(exist_ok=True, parents=True)\n",
    "url = \"https://www.youtube.com/watch?v=bGuqeFMLn7I\"\n",
    " \n",
    "yt = YouTube(url, on_progress_callback=on_progress)\n",
    "file_name = yt.title.replace(\" \", \"_\").lower()\n",
    "file_path = target_dir / file_name\n",
    "audio_len_sec = yt.length\n",
    " \n",
    "ys = yt.streams.get_audio_only()\n",
    "ys.download(output_path=target_dir, filename=file_name, mp3=True)"
   ]
  },
  {
   "cell_type": "code",
   "execution_count": null,
   "metadata": {},
   "outputs": [],
   "source": [
    "from moviepy.editor import AudioFileClip\n",
    "\n",
    "# Load the audio file\n",
    "audio = AudioFileClip(\"/workspace/tts3/downloads/hot_&_humid_running_tips_(more_like_rules).mp3\")\n",
    "\n",
    "# Cut the segment\n",
    "start_time = 0  # 7 seconds\n",
    "end_time = 15   # 19 seconds\n",
    "segment = audio.subclip(start_time, end_time)\n",
    "\n",
    "# Export the cut segment\n",
    "segment.write_audiofile(\"/workspace/tts3/downloads/hot_&_humid_running_tips_(more_like_rules)_cut.mp3\")"
   ]
  },
  {
   "cell_type": "code",
   "execution_count": null,
   "metadata": {},
   "outputs": [],
   "source": []
  }
 ],
 "metadata": {
  "kernelspec": {
   "display_name": "ml",
   "language": "python",
   "name": "python3"
  },
  "language_info": {
   "codemirror_mode": {
    "name": "ipython",
    "version": 3
   },
   "file_extension": ".py",
   "mimetype": "text/x-python",
   "name": "python",
   "nbconvert_exporter": "python",
   "pygments_lexer": "ipython3",
   "version": "3.10.12"
  }
 },
 "nbformat": 4,
 "nbformat_minor": 2
}
