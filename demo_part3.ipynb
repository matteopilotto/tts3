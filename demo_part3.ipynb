{
 "cells": [
  {
   "cell_type": "markdown",
   "metadata": {},
   "source": [
    "## Multi-Accent and Multi-Lingual Voice Clone Demo with MeloTTS"
   ]
  },
  {
   "cell_type": "code",
   "execution_count": 13,
   "metadata": {},
   "outputs": [
    {
     "name": "stdout",
     "output_type": "stream",
     "text": [
      "Hit:1 http://archive.ubuntu.com/ubuntu jammy InRelease\n",
      "Hit:2 http://archive.ubuntu.com/ubuntu jammy-updates InRelease                 \n",
      "Hit:3 https://developer.download.nvidia.com/compute/cuda/repos/ubuntu2204/x86_64  InRelease\n",
      "Hit:4 http://archive.ubuntu.com/ubuntu jammy-backports InRelease               \n",
      "Hit:5 http://security.ubuntu.com/ubuntu jammy-security InRelease               \n",
      "Hit:6 https://ppa.launchpadcontent.net/deadsnakes/ppa/ubuntu jammy InRelease   \n",
      "Reading package lists... Done\n",
      "Reading package lists... Done\n",
      "Building dependency tree... Done\n",
      "Reading state information... Done\n",
      "The following additional packages will be installed:\n",
      "  alsa-topology-conf alsa-ucm-conf fontconfig i965-va-driver\n",
      "  intel-media-va-driver libaacs0 libaom3 libasound2 libasound2-data libass9\n",
      "  libasyncns0 libavc1394-0 libavcodec58 libavdevice58 libavfilter7\n",
      "  libavformat58 libavutil56 libbdplus0 libblas3 libbluray2 libbs2b0 libcaca0\n",
      "  libcairo-gobject2 libcairo2 libcdio-cdda2 libcdio-paranoia2 libcdio19\n",
      "  libchromaprint1 libcodec2-1.0 libdatrie1 libdav1d5 libdc1394-25 libdecor-0-0\n",
      "  libdecor-0-plugin-1-cairo libflac8 libflite1 libfribidi0 libgbm1\n",
      "  libgdk-pixbuf-2.0-0 libgdk-pixbuf2.0-bin libgdk-pixbuf2.0-common\n",
      "  libgfortran5 libgme0 libgraphite2-3 libgsm1 libharfbuzz0b libiec61883-0\n",
      "  libigdgmm12 libjack-jackd2-0 liblapack3 liblilv-0-0 libmfx1 libmp3lame0\n",
      "  libmpg123-0 libmysofa1 libnorm1 libnuma1 libogg0 libopenal-data libopenal1\n",
      "  libopenjp2-7 libopenmpt0 libopus0 libpango-1.0-0 libpangocairo-1.0-0\n",
      "  libpangoft2-1.0-0 libpgm-5.3-0 libpixman-1-0 libpocketsphinx3 libpostproc55\n",
      "  libpulse0 librabbitmq4 libraw1394-11 librsvg2-2 librsvg2-common\n",
      "  librubberband2 libsamplerate0 libsdl2-2.0-0 libserd-0-0 libshine3 libslang2\n",
      "  libsnappy1v5 libsndfile1 libsndio7.0 libsodium23 libsord-0-0 libsoxr0\n",
      "  libspeex1 libsphinxbase3 libsratom-0-0 libsrt1.4-gnutls libssh-gcrypt-4\n",
      "  libswresample3 libswscale5 libthai-data libthai0 libtheora0 libtwolame0\n",
      "  libudfread0 libusb-1.0-0 libva-drm2 libva-x11-2 libva2 libvdpau1\n",
      "  libvidstab1.1 libvorbis0a libvorbisenc2 libvorbisfile3 libvpx7\n",
      "  libwayland-client0 libwayland-cursor0 libwayland-egl1 libwayland-server0\n",
      "  libwebpmux3 libx264-163 libx265-199 libxcb-render0 libxcb-shape0 libxcursor1\n",
      "  libxi6 libxinerama1 libxkbcommon0 libxrandr2 libxrender1 libxss1 libxv1\n",
      "  libxvidcore4 libzimg2 libzmq5 libzvbi-common libzvbi0 mesa-va-drivers\n",
      "  mesa-vdpau-drivers ocl-icd-libopencl1 pocketsphinx-en-us shared-mime-info\n",
      "  va-driver-all vdpau-driver-all x11-common xkb-data\n",
      "Suggested packages:\n",
      "  ffmpeg-doc i965-va-driver-shaders libasound2-plugins alsa-utils libcuda1\n",
      "  libnvcuvid1 libnvidia-encode1 libbluray-bdj jackd2 libportaudio2 opus-tools\n",
      "  pulseaudio libraw1394-doc librsvg2-bin xdg-utils serdi sndiod sordi speex\n",
      "  opencl-icd libvdpau-va-gl1\n",
      "The following NEW packages will be installed:\n",
      "  alsa-topology-conf alsa-ucm-conf ffmpeg fontconfig i965-va-driver\n",
      "  intel-media-va-driver libaacs0 libaom3 libasound2 libasound2-data libass9\n",
      "  libasyncns0 libavc1394-0 libavcodec58 libavdevice58 libavfilter7\n",
      "  libavformat58 libavutil56 libbdplus0 libblas3 libbluray2 libbs2b0 libcaca0\n",
      "  libcairo-gobject2 libcairo2 libcdio-cdda2 libcdio-paranoia2 libcdio19\n",
      "  libchromaprint1 libcodec2-1.0 libdatrie1 libdav1d5 libdc1394-25 libdecor-0-0\n",
      "  libdecor-0-plugin-1-cairo libflac8 libflite1 libfribidi0 libgbm1\n",
      "  libgdk-pixbuf-2.0-0 libgdk-pixbuf2.0-bin libgdk-pixbuf2.0-common\n",
      "  libgfortran5 libgme0 libgraphite2-3 libgsm1 libharfbuzz0b libiec61883-0\n",
      "  libigdgmm12 libjack-jackd2-0 liblapack3 liblilv-0-0 libmfx1 libmp3lame0\n",
      "  libmpg123-0 libmysofa1 libnorm1 libnuma1 libogg0 libopenal-data libopenal1\n",
      "  libopenjp2-7 libopenmpt0 libopus0 libpango-1.0-0 libpangocairo-1.0-0\n",
      "  libpangoft2-1.0-0 libpgm-5.3-0 libpixman-1-0 libpocketsphinx3 libpostproc55\n",
      "  libpulse0 librabbitmq4 libraw1394-11 librsvg2-2 librsvg2-common\n",
      "  librubberband2 libsamplerate0 libsdl2-2.0-0 libserd-0-0 libshine3 libslang2\n",
      "  libsnappy1v5 libsndfile1 libsndio7.0 libsodium23 libsord-0-0 libsoxr0\n",
      "  libspeex1 libsphinxbase3 libsratom-0-0 libsrt1.4-gnutls libssh-gcrypt-4\n",
      "  libswresample3 libswscale5 libthai-data libthai0 libtheora0 libtwolame0\n",
      "  libudfread0 libusb-1.0-0 libva-drm2 libva-x11-2 libva2 libvdpau1\n",
      "  libvidstab1.1 libvorbis0a libvorbisenc2 libvorbisfile3 libvpx7\n",
      "  libwayland-client0 libwayland-cursor0 libwayland-egl1 libwayland-server0\n",
      "  libwebpmux3 libx264-163 libx265-199 libxcb-render0 libxcb-shape0 libxcursor1\n",
      "  libxi6 libxinerama1 libxkbcommon0 libxrandr2 libxrender1 libxss1 libxv1\n",
      "  libxvidcore4 libzimg2 libzmq5 libzvbi-common libzvbi0 mesa-va-drivers\n",
      "  mesa-vdpau-drivers ocl-icd-libopencl1 pocketsphinx-en-us shared-mime-info\n",
      "  va-driver-all vdpau-driver-all x11-common xkb-data\n",
      "0 upgraded, 141 newly installed, 0 to remove and 92 not upgraded.\n",
      "Need to get 101 MB of archives.\n",
      "After this operation, 269 MB of additional disk space will be used.\n",
      "Do you want to continue? [Y/n] ^C\n"
     ]
    }
   ],
   "source": [
    "# !apt-get update\n",
    "# !apt-get install ffmpe\n",
    "# !ffprobe -version"
   ]
  },
  {
   "cell_type": "code",
   "execution_count": 1,
   "metadata": {},
   "outputs": [
    {
     "name": "stdout",
     "output_type": "stream",
     "text": [
      "Files extracted to: ./\n"
     ]
    }
   ],
   "source": [
    "import zipfile\n",
    "import os\n",
    "\n",
    "zip_path = \"./checkpoints_v2_0417.zip\"\n",
    "extract_path = \"./\"\n",
    "\n",
    "with zipfile.ZipFile(zip_path, 'r') as zip_ref:\n",
    "    zip_ref.extractall(extract_path)\n",
    "    print(f\"Files extracted to: {extract_path}\")"
   ]
  },
  {
   "cell_type": "code",
   "execution_count": 2,
   "metadata": {},
   "outputs": [
    {
     "name": "stdout",
     "output_type": "stream",
     "text": [
      "Importing the dtw module. When using in academic works please cite:\n",
      "  T. Giorgino. Computing and Visualizing Dynamic Time Warping Alignments in R: The dtw Package.\n",
      "  J. Stat. Soft., doi:10.18637/jss.v031.i07.\n",
      "\n"
     ]
    }
   ],
   "source": [
    "import os\n",
    "import torch\n",
    "from openvoice import se_extractor\n",
    "from openvoice.api import ToneColorConverter"
   ]
  },
  {
   "cell_type": "markdown",
   "metadata": {},
   "source": [
    "### Initialization\n",
    "\n",
    "In this example, we will use the checkpoints from OpenVoiceV2. OpenVoiceV2 is trained with more aggressive augmentations and thus demonstrate better robustness in some cases."
   ]
  },
  {
   "cell_type": "code",
   "execution_count": 3,
   "metadata": {},
   "outputs": [
    {
     "name": "stderr",
     "output_type": "stream",
     "text": [
      "/usr/local/lib/python3.10/dist-packages/torch/nn/utils/weight_norm.py:30: UserWarning: torch.nn.utils.weight_norm is deprecated in favor of torch.nn.utils.parametrizations.weight_norm.\n",
      "  warnings.warn(\"torch.nn.utils.weight_norm is deprecated in favor of torch.nn.utils.parametrizations.weight_norm.\")\n"
     ]
    },
    {
     "name": "stdout",
     "output_type": "stream",
     "text": [
      "Loaded checkpoint './checkpoints_v2/converter/checkpoint.pth'\n",
      "missing/unexpected keys: [] []\n"
     ]
    }
   ],
   "source": [
    "ckpt_converter = './checkpoints_v2/converter'\n",
    "device = \"cuda\" if torch.cuda.is_available() else \"cpu\"\n",
    "output_dir = 'outputs_v2'\n",
    "\n",
    "tone_color_converter = ToneColorConverter(f'{ckpt_converter}/config.json', device=device)\n",
    "tone_color_converter.load_ckpt(f'{ckpt_converter}/checkpoint.pth')\n",
    "\n",
    "os.makedirs(output_dir, exist_ok=True)"
   ]
  },
  {
   "cell_type": "markdown",
   "metadata": {},
   "source": [
    "### Obtain Tone Color Embedding\n",
    "We only extract the tone color embedding for the target speaker. The source tone color embeddings can be directly loaded from `checkpoints_v2/ses` folder."
   ]
  },
  {
   "cell_type": "code",
   "execution_count": null,
   "metadata": {},
   "outputs": [
    {
     "name": "stdout",
     "output_type": "stream",
     "text": [
      "OpenVoice version: v2\n"
     ]
    }
   ],
   "source": [
    "reference_speaker = './coach_bennet_audio_30sec.wav' # This is the voice you want to clone\n",
    "target_se, audio_name = se_extractor.get_se(reference_speaker, tone_color_converter, vad=False)"
   ]
  },
  {
   "cell_type": "markdown",
   "metadata": {},
   "source": [
    "#### Use MeloTTS as Base Speakers\n",
    "\n",
    "MeloTTS is a high-quality multi-lingual text-to-speech library by @MyShell.ai, supporting languages including English (American, British, Indian, Australian, Default), Spanish, French, Chinese, Japanese, Korean. In the following example, we will use the models in MeloTTS as the base speakers. "
   ]
  },
  {
   "cell_type": "code",
   "execution_count": 2,
   "metadata": {},
   "outputs": [
    {
     "name": "stderr",
     "output_type": "stream",
     "text": [
      "The cache for model files in Transformers v4.22.0 has been updated. Migrating your old cache. This is a one-time only operation. You can interrupt this and resume the migration later on by calling `transformers.utils.move_cache()`.\n"
     ]
    },
    {
     "data": {
      "application/vnd.jupyter.widget-view+json": {
       "model_id": "6044cbb32ae74c0e918d9f375f06f00f",
       "version_major": 2,
       "version_minor": 0
      },
      "text/plain": [
       "0it [00:00, ?it/s]"
      ]
     },
     "metadata": {},
     "output_type": "display_data"
    },
    {
     "ename": "RuntimeError",
     "evalue": "\n----------------------------------------------------------\n\nFailed initializing MeCab. Please see the README for possible solutions:\n\n    https://github.com/SamuraiT/mecab-python3#common-issues\n\nIf you are still having trouble, please file an issue here, and include the\nERROR DETAILS below:\n\n    https://github.com/SamuraiT/mecab-python3/issues\n\nissueを英語で書く必要はありません。\n\n------------------- ERROR DETAILS ------------------------\narguments: \n[ifs] no such file or directory: /usr/local/lib/python3.10/dist-packages/unidic/dicdir/mecabrc\n----------------------------------------------------------\n",
     "output_type": "error",
     "traceback": [
      "\u001b[0;31m---------------------------------------------------------------------------\u001b[0m",
      "\u001b[0;31mRuntimeError\u001b[0m                              Traceback (most recent call last)",
      "File \u001b[0;32m/usr/local/lib/python3.10/dist-packages/MeCab/__init__.py:133\u001b[0m, in \u001b[0;36mTagger.__init__\u001b[0;34m(self, rawargs)\u001b[0m\n\u001b[1;32m    132\u001b[0m \u001b[38;5;28;01mtry\u001b[39;00m:\n\u001b[0;32m--> 133\u001b[0m     \u001b[38;5;28;43msuper\u001b[39;49m\u001b[43m(\u001b[49m\u001b[43mTagger\u001b[49m\u001b[43m,\u001b[49m\u001b[43m \u001b[49m\u001b[38;5;28;43mself\u001b[39;49m\u001b[43m)\u001b[49m\u001b[38;5;241;43m.\u001b[39;49m\u001b[38;5;21;43m__init__\u001b[39;49m\u001b[43m(\u001b[49m\u001b[43margs\u001b[49m\u001b[43m)\u001b[49m\n\u001b[1;32m    134\u001b[0m \u001b[38;5;28;01mexcept\u001b[39;00m \u001b[38;5;167;01mRuntimeError\u001b[39;00m \u001b[38;5;28;01mas\u001b[39;00m ee:\n",
      "\u001b[0;31mRuntimeError\u001b[0m: ",
      "\nThe above exception was the direct cause of the following exception:\n",
      "\u001b[0;31mRuntimeError\u001b[0m                              Traceback (most recent call last)",
      "Cell \u001b[0;32mIn[2], line 2\u001b[0m\n\u001b[1;32m      1\u001b[0m \u001b[38;5;66;03m# pip install git+https://github.com/myshell-ai/MeloTTS.git\u001b[39;00m\n\u001b[0;32m----> 2\u001b[0m \u001b[38;5;28;01mfrom\u001b[39;00m \u001b[38;5;21;01mmelo\u001b[39;00m\u001b[38;5;21;01m.\u001b[39;00m\u001b[38;5;21;01mapi\u001b[39;00m \u001b[38;5;28;01mimport\u001b[39;00m TTS\n\u001b[1;32m      4\u001b[0m texts \u001b[38;5;241m=\u001b[39m {\n\u001b[1;32m      5\u001b[0m     \u001b[38;5;124m'\u001b[39m\u001b[38;5;124mEN_NEWEST\u001b[39m\u001b[38;5;124m'\u001b[39m: \u001b[38;5;124m\"\u001b[39m\u001b[38;5;124mDid you ever hear a folk tale about a giant turtle?\u001b[39m\u001b[38;5;124m\"\u001b[39m,  \u001b[38;5;66;03m# The newest English base speaker model\u001b[39;00m\n\u001b[1;32m      6\u001b[0m     \u001b[38;5;124m'\u001b[39m\u001b[38;5;124mEN\u001b[39m\u001b[38;5;124m'\u001b[39m: \u001b[38;5;124m\"\u001b[39m\u001b[38;5;124mDid you ever hear a folk tale about a giant turtle?\u001b[39m\u001b[38;5;124m\"\u001b[39m,\n\u001b[0;32m   (...)\u001b[0m\n\u001b[1;32m     11\u001b[0m     \u001b[38;5;66;03m# 'KR': \"안녕하세요! 오늘은 날씨가 정말 좋네요.\",\u001b[39;00m\n\u001b[1;32m     12\u001b[0m }\n\u001b[1;32m     15\u001b[0m src_path \u001b[38;5;241m=\u001b[39m \u001b[38;5;124mf\u001b[39m\u001b[38;5;124m'\u001b[39m\u001b[38;5;132;01m{\u001b[39;00moutput_dir\u001b[38;5;132;01m}\u001b[39;00m\u001b[38;5;124m/tmp.wav\u001b[39m\u001b[38;5;124m'\u001b[39m\n",
      "File \u001b[0;32m/usr/local/lib/python3.10/dist-packages/melo/api.py:13\u001b[0m\n\u001b[1;32m     10\u001b[0m \u001b[38;5;28;01mfrom\u001b[39;00m \u001b[38;5;21;01mtqdm\u001b[39;00m \u001b[38;5;28;01mimport\u001b[39;00m tqdm\n\u001b[1;32m     11\u001b[0m \u001b[38;5;28;01mimport\u001b[39;00m \u001b[38;5;21;01mtorch\u001b[39;00m\n\u001b[0;32m---> 13\u001b[0m \u001b[38;5;28;01mfrom\u001b[39;00m \u001b[38;5;21;01m.\u001b[39;00m \u001b[38;5;28;01mimport\u001b[39;00m utils\n\u001b[1;32m     14\u001b[0m \u001b[38;5;28;01mfrom\u001b[39;00m \u001b[38;5;21;01m.\u001b[39;00m \u001b[38;5;28;01mimport\u001b[39;00m commons\n\u001b[1;32m     15\u001b[0m \u001b[38;5;28;01mfrom\u001b[39;00m \u001b[38;5;21;01m.\u001b[39;00m\u001b[38;5;21;01mmodels\u001b[39;00m \u001b[38;5;28;01mimport\u001b[39;00m SynthesizerTrn\n",
      "File \u001b[0;32m/usr/local/lib/python3.10/dist-packages/melo/utils.py:13\u001b[0m\n\u001b[1;32m     11\u001b[0m \u001b[38;5;28;01mimport\u001b[39;00m \u001b[38;5;21;01mlibrosa\u001b[39;00m\n\u001b[1;32m     12\u001b[0m \u001b[38;5;28;01mfrom\u001b[39;00m \u001b[38;5;21;01mmelo\u001b[39;00m\u001b[38;5;21;01m.\u001b[39;00m\u001b[38;5;21;01mtext\u001b[39;00m \u001b[38;5;28;01mimport\u001b[39;00m cleaned_text_to_sequence, get_bert\n\u001b[0;32m---> 13\u001b[0m \u001b[38;5;28;01mfrom\u001b[39;00m \u001b[38;5;21;01mmelo\u001b[39;00m\u001b[38;5;21;01m.\u001b[39;00m\u001b[38;5;21;01mtext\u001b[39;00m\u001b[38;5;21;01m.\u001b[39;00m\u001b[38;5;21;01mcleaner\u001b[39;00m \u001b[38;5;28;01mimport\u001b[39;00m clean_text\n\u001b[1;32m     14\u001b[0m \u001b[38;5;28;01mfrom\u001b[39;00m \u001b[38;5;21;01mmelo\u001b[39;00m \u001b[38;5;28;01mimport\u001b[39;00m commons\n\u001b[1;32m     16\u001b[0m MATPLOTLIB_FLAG \u001b[38;5;241m=\u001b[39m \u001b[38;5;28;01mFalse\u001b[39;00m\n",
      "File \u001b[0;32m/usr/local/lib/python3.10/dist-packages/melo/text/cleaner.py:1\u001b[0m\n\u001b[0;32m----> 1\u001b[0m \u001b[38;5;28;01mfrom\u001b[39;00m \u001b[38;5;21;01m.\u001b[39;00m \u001b[38;5;28;01mimport\u001b[39;00m chinese, japanese, english, chinese_mix, korean, french, spanish\n\u001b[1;32m      2\u001b[0m \u001b[38;5;28;01mfrom\u001b[39;00m \u001b[38;5;21;01m.\u001b[39;00m \u001b[38;5;28;01mimport\u001b[39;00m cleaned_text_to_sequence\n\u001b[1;32m      3\u001b[0m \u001b[38;5;28;01mimport\u001b[39;00m \u001b[38;5;21;01mcopy\u001b[39;00m\n",
      "File \u001b[0;32m/usr/local/lib/python3.10/dist-packages/melo/text/japanese.py:367\u001b[0m\n\u001b[1;32m    365\u001b[0m _SYMBOL_TOKENS \u001b[38;5;241m=\u001b[39m \u001b[38;5;28mset\u001b[39m(\u001b[38;5;28mlist\u001b[39m(\u001b[38;5;124m\"\u001b[39m\u001b[38;5;124m・、。？！\u001b[39m\u001b[38;5;124m\"\u001b[39m))\n\u001b[1;32m    366\u001b[0m _NO_YOMI_TOKENS \u001b[38;5;241m=\u001b[39m \u001b[38;5;28mset\u001b[39m(\u001b[38;5;28mlist\u001b[39m(\u001b[38;5;124m\"\u001b[39m\u001b[38;5;124m「」『』―（）［］[]\u001b[39m\u001b[38;5;124m\"\u001b[39m))\n\u001b[0;32m--> 367\u001b[0m _TAGGER \u001b[38;5;241m=\u001b[39m \u001b[43mMeCab\u001b[49m\u001b[38;5;241;43m.\u001b[39;49m\u001b[43mTagger\u001b[49m\u001b[43m(\u001b[49m\u001b[43m)\u001b[49m\n\u001b[1;32m    370\u001b[0m \u001b[38;5;28;01mdef\u001b[39;00m \u001b[38;5;21mtext2kata\u001b[39m(text: \u001b[38;5;28mstr\u001b[39m) \u001b[38;5;241m-\u001b[39m\u001b[38;5;241m>\u001b[39m \u001b[38;5;28mstr\u001b[39m:\n\u001b[1;32m    371\u001b[0m     parsed \u001b[38;5;241m=\u001b[39m _TAGGER\u001b[38;5;241m.\u001b[39mparse(text)\n",
      "File \u001b[0;32m/usr/local/lib/python3.10/dist-packages/MeCab/__init__.py:135\u001b[0m, in \u001b[0;36mTagger.__init__\u001b[0;34m(self, rawargs)\u001b[0m\n\u001b[1;32m    133\u001b[0m     \u001b[38;5;28msuper\u001b[39m(Tagger, \u001b[38;5;28mself\u001b[39m)\u001b[38;5;241m.\u001b[39m\u001b[38;5;21m__init__\u001b[39m(args)\n\u001b[1;32m    134\u001b[0m \u001b[38;5;28;01mexcept\u001b[39;00m \u001b[38;5;167;01mRuntimeError\u001b[39;00m \u001b[38;5;28;01mas\u001b[39;00m ee:\n\u001b[0;32m--> 135\u001b[0m     \u001b[38;5;28;01mraise\u001b[39;00m \u001b[38;5;167;01mRuntimeError\u001b[39;00m(error_info(rawargs)) \u001b[38;5;28;01mfrom\u001b[39;00m \u001b[38;5;21;01mee\u001b[39;00m\n",
      "\u001b[0;31mRuntimeError\u001b[0m: \n----------------------------------------------------------\n\nFailed initializing MeCab. Please see the README for possible solutions:\n\n    https://github.com/SamuraiT/mecab-python3#common-issues\n\nIf you are still having trouble, please file an issue here, and include the\nERROR DETAILS below:\n\n    https://github.com/SamuraiT/mecab-python3/issues\n\nissueを英語で書く必要はありません。\n\n------------------- ERROR DETAILS ------------------------\narguments: \n[ifs] no such file or directory: /usr/local/lib/python3.10/dist-packages/unidic/dicdir/mecabrc\n----------------------------------------------------------\n"
     ]
    }
   ],
   "source": [
    "# pip install git+https://github.com/myshell-ai/MeloTTS.git\n",
    "from melo.api import TTS\n",
    "\n",
    "texts = {\n",
    "    'EN_NEWEST': \"Did you ever hear a folk tale about a giant turtle?\",  # The newest English base speaker model\n",
    "    'EN': \"Did you ever hear a folk tale about a giant turtle?\",\n",
    "    # 'ES': \"El resplandor del sol acaricia las olas, pintando el cielo con una paleta deslumbrante.\",\n",
    "    # 'FR': \"La lueur dorée du soleil caresse les vagues, peignant le ciel d'une palette éblouissante.\",\n",
    "    # 'ZH': \"在这次vacation中，我们计划去Paris欣赏埃菲尔铁塔和卢浮宫的美景。\",\n",
    "    # 'JP': \"彼は毎朝ジョギングをして体を健康に保っています。\",\n",
    "    # 'KR': \"안녕하세요! 오늘은 날씨가 정말 좋네요.\",\n",
    "}\n",
    "\n",
    "\n",
    "src_path = f'{output_dir}/tmp.wav'\n",
    "\n",
    "# Speed is adjustable\n",
    "speed = 1.0\n",
    "\n",
    "for language, text in texts.items():\n",
    "    model = TTS(language=language, device=device)\n",
    "    speaker_ids = model.hps.data.spk2id\n",
    "    \n",
    "    for speaker_key in speaker_ids.keys():\n",
    "        speaker_id = speaker_ids[speaker_key]\n",
    "        speaker_key = speaker_key.lower().replace('_', '-')\n",
    "        \n",
    "        source_se = torch.load(f'checkpoints_v2/base_speakers/ses/{speaker_key}.pth', map_location=device)\n",
    "        model.tts_to_file(text, speaker_id, src_path, speed=speed)\n",
    "        save_path = f'{output_dir}/output_v2_{speaker_key}.wav'\n",
    "\n",
    "        # Run the tone color converter\n",
    "        encode_message = \"@MyShell\"\n",
    "        tone_color_converter.convert(\n",
    "            audio_src_path=src_path, \n",
    "            src_se=source_se, \n",
    "            # tgt_se=target_se, \n",
    "            output_path=save_path,\n",
    "            message=encode_message)"
   ]
  }
 ],
 "metadata": {
  "kernelspec": {
   "display_name": "Python 3 (ipykernel)",
   "language": "python",
   "name": "python3"
  },
  "language_info": {
   "codemirror_mode": {
    "name": "ipython",
    "version": 3
   },
   "file_extension": ".py",
   "mimetype": "text/x-python",
   "name": "python",
   "nbconvert_exporter": "python",
   "pygments_lexer": "ipython3",
   "version": "3.10.12"
  }
 },
 "nbformat": 4,
 "nbformat_minor": 4
}
